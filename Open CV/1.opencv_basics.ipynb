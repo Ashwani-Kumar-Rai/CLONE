{
 "cells": [
  {
   "cell_type": "code",
   "execution_count": null,
   "metadata": {},
   "outputs": [],
   "source": [
    "# OpenCV Python : Image Processing , object detection  \n",
    "\n",
    "# OPEN CV is an open source , computer vision library ,that is used to perform image analysis, vido analysis \n",
    "    #- , image processing , manipulation ."
   ]
  },
  {
   "cell_type": "code",
   "execution_count": null,
   "metadata": {},
   "outputs": [],
   "source": [
    "# TODO \n",
    "# 0. package installation :  pip install opencv-python\n",
    "# 1. loading an image \n",
    "# 2. Displaying an image \n",
    "# 3. Resizing an image \n",
    "# 4. Rotating an image "
   ]
  },
  {
   "cell_type": "code",
   "execution_count": 14,
   "metadata": {},
   "outputs": [],
   "source": [
    "import cv2 \n",
    "\n",
    "# 1. loading an image \n",
    "\n",
    "# load an image  [path]       [mode that i want to open image in] : color mode , grayscale mode , image as is\n",
    "img = cv2.imread('assets/logo.jpg',0)\n",
    "# -1 , cv2.IMREAD_COLOR : Loads a color image , Any Transparency of image will be neglected . It is default falg .\n",
    "# 0 , cv2.IMREAD_GRAYSCALE : loads in greyscale image \n",
    "# 1 , cv2.IMREAD_UNCHANGED : Loads image as such includeing alpha channel \n",
    "\n",
    "# 2. Displaying an image \n",
    "cv2.imshow('image',img)\n",
    "            # [ image = label for window ]\n",
    "\n",
    "# close the window \n",
    "cv2.waitKey(0) # 0: will wait for infinite amount of time till i press any key in the keywords , 5: wait 5 seconds \n",
    "\n",
    "\n",
    "cv2.destroyAllWindows()\n"
   ]
  },
  {
   "cell_type": "code",
   "execution_count": null,
   "metadata": {},
   "outputs": [],
   "source": [
    "# 3. Resizing an image \n",
    "\n",
    "import cv2 \n",
    "img = cv2.imread('assets/logo.jpg',0)    \n",
    "img = cv2.resize(img,(400,400))\n",
    "\n",
    "cv2.imshow('image',img)\n",
    "cv2.waitKey(0)\n",
    "cv2.destroyAllWindows()\n",
    "\n",
    "\n",
    "\n"
   ]
  },
  {
   "cell_type": "code",
   "execution_count": null,
   "metadata": {},
   "outputs": [],
   "source": [
    "# to make the image 1/2 or 1/4 of the height \n",
    "import cv2 \n",
    "img = cv2.imread('assets/logo.jpg',0)    \n",
    "img = cv2.resize(img,(0,0),fx=0.5,fy=0.5) # scale down the image by half \n",
    "\n",
    "cv2.imshow('image',img)\n",
    "cv2.waitKey(0)\n",
    "cv2.destroyAllWindows()\n"
   ]
  },
  {
   "cell_type": "code",
   "execution_count": null,
   "metadata": {},
   "outputs": [],
   "source": [
    "# 4. Rotating an image \n",
    "import cv2 \n",
    "img = cv2.imread('assets/logo.jpg',0)    \n",
    "img = cv2.resize(img,(0,0),fx=0.5,fy=0.5)\n",
    "cv2.rotate(img,cv2.cv2.ROTATE_90_CLOCKWISE)\n",
    "cv2.imwrite('new_img.jpg',img) \n",
    "cv2.imshow('Image',img)\n",
    "cv2.waitKey(0)\n",
    "cv2.destroyAllWindows()"
   ]
  }
 ],
 "metadata": {
  "kernelspec": {
   "display_name": "Python 3",
   "language": "python",
   "name": "python3"
  },
  "language_info": {
   "codemirror_mode": {
    "name": "ipython",
    "version": 3
   },
   "file_extension": ".py",
   "mimetype": "text/x-python",
   "name": "python",
   "nbconvert_exporter": "python",
   "pygments_lexer": "ipython3",
   "version": "3.10.6"
  },
  "orig_nbformat": 4
 },
 "nbformat": 4,
 "nbformat_minor": 2
}
