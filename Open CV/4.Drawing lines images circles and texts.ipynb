{
 "cells": [
  {
   "cell_type": "code",
   "execution_count": 1,
   "metadata": {},
   "outputs": [],
   "source": [
    "# Drawing Lines On an Image\n",
    "\n",
    "# quardinate system of screen\n",
    "#     00 -> x axis\n",
    "#     |\n",
    "#    y axis \n",
    "import numpy as np \n",
    "import cv2 \n",
    "\n",
    "cap = cv2.VideoCapture(0)\n",
    "\n",
    "while True:\n",
    "    ret ,frame = cap.read()  \n",
    "    width = int(cap.get(3)) \n",
    "    height = int(cap.get(4))\n",
    "                           \n",
    "    # Everytime it captures my face , it is also capturing the line                        \n",
    "    img = cv2.line(frame,(0,0),(width,height),(255,0,0),10) # pass the image to which you want to draw a line , quardinate of the beginning and ending\n",
    "    # frame-> image source  \n",
    "    #(0,0): starting position\n",
    "    # width,height) : ending position\n",
    "    # (255,0,0) color of line  \n",
    "    # 10-> thickness of line \n",
    "\n",
    "    cv2.imshow('frame',frame) \n",
    "    if cv2.waitKey(1) == ord('q'):                       \n",
    "        break \n",
    "\n",
    "cap.release() \n",
    "cv2.destroyAllWindows()\n",
    "\n",
    "\n"
   ]
  }
 ],
 "metadata": {
  "kernelspec": {
   "display_name": "Python 3",
   "language": "python",
   "name": "python3"
  },
  "language_info": {
   "codemirror_mode": {
    "name": "ipython",
    "version": 3
   },
   "file_extension": ".py",
   "mimetype": "text/x-python",
   "name": "python",
   "nbconvert_exporter": "python",
   "pygments_lexer": "ipython3",
   "version": "3.10.6"
  },
  "orig_nbformat": 4
 },
 "nbformat": 4,
 "nbformat_minor": 2
}
