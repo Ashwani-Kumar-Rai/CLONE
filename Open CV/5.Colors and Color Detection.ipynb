{
 "cells": [
  {
   "cell_type": "code",
   "execution_count": 2,
   "metadata": {},
   "outputs": [],
   "source": [
    "# COLORS and COLOR DETECTION :  INCOMPLETE\n",
    "\n",
    "# RGB : Red Green Blue \n",
    "# BGR : Blue Green Blue\n",
    "# HSV : Hue Saturation and lightness/brightness\n",
    "\n",
    "import numpy as np \n",
    "import cv2 \n",
    "\n",
    "cap = cv2.VideoCapture(0)\n",
    "\n",
    "while True:\n",
    "    ret ,frame = cap.read()  \n",
    "    width = int(cap.get(3)) \n",
    "    height = int(cap.get(4))\n",
    "\n",
    "    hsv = cv2.cvtColor(frame,cv2.COLOR_BGR2HSV)\n",
    "    \n",
    "    # Now we need to define the colors that we want to extract from this image \n",
    "        #- we need to define two hsv color values one for the lower one for the upper: any pixels in the range of the \n",
    "            #- color will be displayed \n",
    "    lower_blue  = np.array([])     \n",
    "    upper_blue  = np.array([])        \n",
    "\n",
    "    # This looks different because we are trying to show our rgb image as bgr image \n",
    "    cv2.imshow('frame',hsv) \n",
    "\n",
    "    \n",
    "    if cv2.waitKey(1) == ord('q'):                       \n",
    "        break \n",
    "\n",
    "cap.release() \n",
    "cv2.destroyAllWindows()\n"
   ]
  }
 ],
 "metadata": {
  "kernelspec": {
   "display_name": "Python 3",
   "language": "python",
   "name": "python3"
  },
  "language_info": {
   "codemirror_mode": {
    "name": "ipython",
    "version": 3
   },
   "file_extension": ".py",
   "mimetype": "text/x-python",
   "name": "python",
   "nbconvert_exporter": "python",
   "pygments_lexer": "ipython3",
   "version": "3.10.6"
  },
  "orig_nbformat": 4
 },
 "nbformat": 4,
 "nbformat_minor": 2
}
