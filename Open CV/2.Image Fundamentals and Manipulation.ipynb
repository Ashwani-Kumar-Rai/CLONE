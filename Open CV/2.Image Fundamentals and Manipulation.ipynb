{
 "cells": [
  {
   "cell_type": "code",
   "execution_count": 4,
   "metadata": {},
   "outputs": [
    {
     "name": "stdout",
     "output_type": "stream",
     "text": [
      "[[[107 140 113]\n",
      "  [107 140 113]\n",
      "  [106 142 112]\n",
      "  ...\n",
      "  [ 53  15  27]\n",
      "  [ 53  15  27]\n",
      "  [ 53  15  27]]\n",
      "\n",
      " [[108 141 114]\n",
      "  [108 141 114]\n",
      "  [107 143 113]\n",
      "  ...\n",
      "  [ 53  15  27]\n",
      "  [ 53  15  27]\n",
      "  [ 53  15  27]]\n",
      "\n",
      " [[109 142 115]\n",
      "  [110 143 116]\n",
      "  [108 143 116]\n",
      "  ...\n",
      "  [ 53  15  27]\n",
      "  [ 53  15  27]\n",
      "  [ 53  15  27]]\n",
      "\n",
      " ...\n",
      "\n",
      " [[ 80  36  37]\n",
      "  [ 79  35  36]\n",
      "  [ 76  32  31]\n",
      "  ...\n",
      "  [ 53  16  26]\n",
      "  [ 53  16  26]\n",
      "  [ 53  16  26]]\n",
      "\n",
      " [[ 83  39  38]\n",
      "  [ 81  37  36]\n",
      "  [ 76  32  31]\n",
      "  ...\n",
      "  [ 53  16  26]\n",
      "  [ 53  16  26]\n",
      "  [ 53  16  26]]\n",
      "\n",
      " [[ 77  33  32]\n",
      "  [ 77  33  32]\n",
      "  [ 73  29  28]\n",
      "  ...\n",
      "  [ 53  16  26]\n",
      "  [ 53  16  26]\n",
      "  [ 53  16  26]]]\n",
      "<class 'numpy.ndarray'>\n",
      "(540, 960, 3)\n"
     ]
    }
   ],
   "source": [
    "# Image manipulation : How images are actually represented in computer \n",
    "                    #- How images actually work \n",
    "                    #- copy one part of image to another part of the image \n",
    "\n",
    "# VALUES THAT RERESENT OUR PIXELS\n",
    "import cv2\n",
    "img = cv2.imread('assets/logo.jpg',-1)\n",
    "print(img) # A lot of matrices\n",
    "\n",
    "print(type(img)) # <class 'numpy.ndarray'>\n",
    "# Numpy : is a high performance library also used for arrays , allows to do most optimized operations with arrays\n",
    "\n",
    "print(img.shape)  # (540, 960, 3) , no of rows[hight of image] ,no of cols[width of image] , no of channels in my image 3:(RGB)\n",
    "# open cv used BGR\n",
    "# standar is RGB \n",
    "\n",
    "\n",
    "# [0,0,0]: Read as blue,green,red\n",
    "\n",
    "# an image of 2X2 pixels\n",
    "# [\n",
    "#     [[0,0,0],[255,255,255]],        # when ever we are manipulating an image : all we are doing is modiying this image\n",
    "#     [[0,0,0],[255,255,255]]\n",
    "# ] \n",
    "\n",
    "# These pixels are all set in cols , these cols are all in a row , you have multiple rows which have all column values in them , \n",
    "    #- inside of column you have your pixels  \n",
    "\n",
    "\n",
    "# when we rotated image : it rotated the value of this matrix  \n",
    "# NOTE : you can modify the image by modify the matrix that represent this image . \n"
   ]
  },
  {
   "cell_type": "code",
   "execution_count": 10,
   "metadata": {},
   "outputs": [
    {
     "name": "stdout",
     "output_type": "stream",
     "text": [
      "[95 60 56]\n"
     ]
    }
   ],
   "source": [
    "# ACCESSING  PIXEL VALUES\n",
    "#  lets look at the first row of our image\n",
    "import cv2\n",
    "img = cv2.imread('assets/logo.jpg')\n",
    "# print(img[257][45:400]) # pixels between 45 and 400 in the first row \n",
    "print(img[257][400])\n"
   ]
  },
  {
   "cell_type": "code",
   "execution_count": 13,
   "metadata": {},
   "outputs": [],
   "source": [
    "# CHANGING PIXEL COLOR  : RANDOMLY \n",
    "import cv2\n",
    "import random \n",
    "img = cv2.imread('assets/logo.jpg',-1)\n",
    "\n",
    "for i in range(100):\n",
    "    for j in range(img.shape[1]): # imge.shape at index 1 , recall (rows,cols,shape)\n",
    "        img[i][i]=[random.randint(0,255),random.randint(0,255),random.randint(0,255)]\n",
    "\n",
    "cv2.imshow('Image',img) \n",
    "cv2.waitKey(0) # wait infinite amount of time \n",
    "cv2.destroyAllWindows()"
   ]
  },
  {
   "cell_type": "code",
   "execution_count": 13,
   "metadata": {},
   "outputs": [
    {
     "ename": "ValueError",
     "evalue": "could not broadcast input array from shape (40,300,3) into shape (200,300,3)",
     "output_type": "error",
     "traceback": [
      "\u001b[0;31m---------------------------------------------------------------------------\u001b[0m",
      "\u001b[0;31mValueError\u001b[0m                                Traceback (most recent call last)",
      "Cell \u001b[0;32mIn[13], line 10\u001b[0m\n\u001b[1;32m      7\u001b[0m tag \u001b[39m=\u001b[39m img[\u001b[39m500\u001b[39m:\u001b[39m700\u001b[39m,\u001b[39m600\u001b[39m:\u001b[39m900\u001b[39m] \u001b[39m# copy from  rows . 500 to 700(not including 700) , all the cols 600,900 (not including 900)\u001b[39;00m\n\u001b[1;32m      9\u001b[0m \u001b[39m# we will paste our image  \u001b[39;00m\n\u001b[0;32m---> 10\u001b[0m img[\u001b[39m0\u001b[39;49m:\u001b[39m200\u001b[39;49m,\u001b[39m250\u001b[39;49m:\u001b[39m550\u001b[39;49m]\u001b[39m=\u001b[39mtag\n\u001b[1;32m     12\u001b[0m cv2\u001b[39m.\u001b[39mimshow(\u001b[39m'\u001b[39m\u001b[39mImage\u001b[39m\u001b[39m'\u001b[39m,img) \n\u001b[1;32m     13\u001b[0m cv2\u001b[39m.\u001b[39mwaitKey(\u001b[39m0\u001b[39m) \u001b[39m# wait infinite amount of time \u001b[39;00m\n",
      "\u001b[0;31mValueError\u001b[0m: could not broadcast input array from shape (40,300,3) into shape (200,300,3)"
     ]
    }
   ],
   "source": [
    "# COPY ONE PART OF THE IMAGE AND PASTE IT TO ANOTHER PART OF THE IMAGE \n",
    "\n",
    "import cv2\n",
    "import random \n",
    "img = cv2.imread('assets/logo.jpg',-1)\n",
    "\n",
    "tag = img[500:700,600:900] # copy from  rows . 500 to 700(not including 700) , all the cols 600,900 (not including 900)\n",
    "\n",
    "# we will paste our image  \n",
    "img[0:200,250:550]=tag\n",
    "\n",
    "cv2.imshow('Image',img) \n",
    "cv2.waitKey(0) # wait infinite amount of time \n",
    "cv2.destroyAllWindows()"
   ]
  }
 ],
 "metadata": {
  "kernelspec": {
   "display_name": "Python 3",
   "language": "python",
   "name": "python3"
  },
  "language_info": {
   "codemirror_mode": {
    "name": "ipython",
    "version": 3
   },
   "file_extension": ".py",
   "mimetype": "text/x-python",
   "name": "python",
   "nbconvert_exporter": "python",
   "pygments_lexer": "ipython3",
   "version": "3.10.6"
  },
  "orig_nbformat": 4
 },
 "nbformat": 4,
 "nbformat_minor": 2
}
